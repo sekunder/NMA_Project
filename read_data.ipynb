{
  "nbformat": 4,
  "nbformat_minor": 0,
  "metadata": {
    "colab": {
      "name": "read_data.ipynb",
      "provenance": [],
      "collapsed_sections": [],
      "include_colab_link": true
    },
    "kernelspec": {
      "name": "python3",
      "display_name": "Python 3"
    }
  },
  "cells": [
    {
      "cell_type": "markdown",
      "metadata": {
        "id": "view-in-github",
        "colab_type": "text"
      },
      "source": [
        "<a href=\"https://colab.research.google.com/github/sekunder/NMA_Project/blob/master/read_data.ipynb\" target=\"_parent\"><img src=\"https://colab.research.google.com/assets/colab-badge.svg\" alt=\"Open In Colab\"/></a>"
      ]
    },
    {
      "cell_type": "markdown",
      "metadata": {
        "id": "EXm2NjSzzYKS",
        "colab_type": "text"
      },
      "source": [
        "**Setting up**\n",
        "\n",
        "---\n",
        "\n",
        "\n",
        "\n",
        "Accept invitaiton to shared folder, add shortcut (right click on shared folder) and add to your drive. \n",
        "\n",
        "You also need to give colab acess to your drive. \n",
        "\n",
        "You then just need to declare the path to the file. "
      ]
    },
    {
      "cell_type": "code",
      "metadata": {
        "id": "Pb1a8P9JKPjj",
        "colab_type": "code",
        "colab": {
          "base_uri": "https://localhost:8080/",
          "height": 34
        },
        "outputId": "7bf2bc85-d3c1-4713-e7cb-7ecd8418804b"
      },
      "source": [
        "import pandas as pd\n",
        "import numpy as np\n",
        "import os\n",
        "\n",
        "# give google colab access to your drive\n",
        "from google.colab import drive\n",
        "drive.mount('/content/drive')\n",
        "\n",
        "wd=\"drive/My Drive/data/\"\n",
        "\n",
        "all_fnames = ['gratings_noisy_GT1_2019_04_08_1.npy', \\\n",
        "          'gratings_static_GT1_2019_04_17_1.npy',\\\n",
        "          'minnie_GT1_2019_04_29_2.npy',\\\n",
        "          'gratings_drifting_GT1_2019_04_12_1.npy',\\\n",
        "          'gratings_low_contrast_GT1_2019_04_09_1.npy',\\\n",
        "          'gratings_local_GT1_2019_04_27_2.npy']\n",
        "fname_keys = ['noisy', 'static', 'minnie', 'drifting', 'low_contrast', 'local']"
      ],
      "execution_count": 4,
      "outputs": [
        {
          "output_type": "stream",
          "text": [
            "Drive already mounted at /content/drive; to attempt to forcibly remount, call drive.mount(\"/content/drive\", force_remount=True).\n"
          ],
          "name": "stdout"
        }
      ]
    },
    {
      "cell_type": "code",
      "metadata": {
        "id": "NRtseZ2H23nE",
        "colab_type": "code",
        "colab": {}
      },
      "source": [
        "# load this mouse's data\n",
        "dat={}\n",
        "# which files do you want to load?\n",
        "idx = [1,2]\n",
        "# load each file and save it in a new array\n",
        "for ind in idx:\n",
        "  dat[fname_keys[ind]] = np.load(os.path.join(wd, all_fnames[ind]), allow_pickle=True).item()"
      ],
      "execution_count": 5,
      "outputs": []
    },
    {
      "cell_type": "code",
      "metadata": {
        "id": "muyWCxkcwYeN",
        "colab_type": "code",
        "colab": {
          "base_uri": "https://localhost:8080/",
          "height": 204
        },
        "outputId": "3165c358-1efa-462f-d15a-77229cd52316"
      },
      "source": [
        "# load database info\n",
        "db = pd.read_csv(os.path.join(wd,\"database.csv\"), sep=',')\n",
        "\n",
        "# print header\n",
        "print(db.columns)\n",
        "\n",
        "# print out our mouse's info\n",
        "print(db.loc[db['mouse_name']==\"GT1\"])"
      ],
      "execution_count": 2,
      "outputs": [
        {
          "output_type": "stream",
          "text": [
            "Index(['notes', 'expt', 'depth', 'mouse_name', 'date', 'block'], dtype='object')\n",
            "                          notes                   expt  ...        date block\n",
            "0                           NaN        gratings_static  ...  2019_04_17     1\n",
            "6      gratings(local(.38 .53))         gratings_local  ...  2019_04_27     2\n",
            "9   gratings(minnie, [.38 .53])                 minnie  ...  2019_04_29     2\n",
            "15          gratings short full         gratings_short  ...  2019_04_28     5\n",
            "18                          NaN      gratings_drifting  ...  2019_04_12     1\n",
            "21                          NaN  gratings_low_contrast  ...  2019_04_09     1\n",
            "24                          NaN         gratings_noisy  ...  2019_04_08     1\n",
            "\n",
            "[7 rows x 6 columns]\n"
          ],
          "name": "stdout"
        }
      ]
    },
    {
      "cell_type": "code",
      "metadata": {
        "id": "aPFX3vFnMZGs",
        "colab_type": "code",
        "colab": {}
      },
      "source": [
        "# look at the stimuli\n",
        "print(dat.keys)"
      ],
      "execution_count": null,
      "outputs": []
    },
    {
      "cell_type": "code",
      "metadata": {
        "id": "YCr4ScOLMcbP",
        "colab_type": "code",
        "colab": {}
      },
      "source": [
        "# look at data for minnie\n",
        "print(dat['minnie'].keys())"
      ],
      "execution_count": null,
      "outputs": []
    },
    {
      "cell_type": "code",
      "metadata": {
        "id": "UnmDeFJTMm5x",
        "colab_type": "code",
        "colab": {}
      },
      "source": [
        "# note that static gratings (g_static) include spontaneous movement and xyz coordinates of \n",
        "# neurons, which are missing from the other datasets\n",
        "print(dat['static'].keys())"
      ],
      "execution_count": null,
      "outputs": []
    },
    {
      "cell_type": "markdown",
      "metadata": {
        "id": "fqptO4tbzXWl",
        "colab_type": "text"
      },
      "source": [
        ""
      ]
    }
  ]
}